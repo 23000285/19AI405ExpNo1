{
 "cells": [
  {
   "cell_type": "code",
   "execution_count": 1,
   "id": "195c97be",
   "metadata": {},
   "outputs": [
    {
     "name": "stdout",
     "output_type": "stream",
     "text": [
      "Location: A, Dirt Status: {'A': False, 'B': False}\n",
      "Location: A, Dirt Status: {'A': False, 'B': False}\n",
      "Location: A, Dirt Status: {'A': False, 'B': False}\n"
     ]
    }
   ],
   "source": [
    "class VacuumCleanerAgent:\n",
    "    def __init__(self):\n",
    "        # Initialize the agent's state (location and dirt status)\n",
    "        self.location = \"A\"  # Initial location (can be \"A\" or \"B\")\n",
    "        self.dirt_status = {\"A\": False, \"B\": False}  # Initial dirt status (False means no dirt)\n",
    "\n",
    "    def move_left(self):\n",
    "        # Move the agent to the left if possible\n",
    "        if self.location == \"B\":\n",
    "            self.location = \"A\"\n",
    "\n",
    "    def move_right(self):\n",
    "        # Move the agent to the right if possible\n",
    "        if self.location == \"A\":\n",
    "            self.location = \"B\"\n",
    "\n",
    "    def suck_dirt(self):\n",
    "        # Suck dirt in the current location if there is dirt\n",
    "        if self.dirt_status[self.location]:\n",
    "            self.dirt_status[self.location] = False\n",
    "            print(f\"Sucked dirt in location {self.location}\")\n",
    "\n",
    "    def do_nothing(self):\n",
    "        # Do nothing\n",
    "        pass\n",
    "\n",
    "    def perform_action(self, action):\n",
    "        # Perform the specified action\n",
    "        if action == \"left\":\n",
    "            self.move_left()\n",
    "        elif action == \"right\":\n",
    "            self.move_right()\n",
    "        elif action == \"suck\":\n",
    "            self.suck_dirt()\n",
    "        elif action == \"nothing\":\n",
    "            self.do_nothing()\n",
    "        else:\n",
    "            print(\"Invalid action\")\n",
    "\n",
    "    def print_status(self):\n",
    "        # Print the current status of the agent\n",
    "        print(f\"Location: {self.location}, Dirt Status: {self.dirt_status}\")\n",
    "\n",
    "# Example usage:\n",
    "agent = VacuumCleanerAgent()\n",
    "\n",
    "# Move the agent, suck dirt, and do nothing\n",
    "\n",
    "agent.perform_action(\"left\")\n",
    "agent.print_status()\n",
    "agent.perform_action(\"suck\")\n",
    "agent.print_status()\n",
    "agent.perform_action(\"nothing\")\n",
    "agent.print_status()"
   ]
  }
 ],
 "metadata": {
  "kernelspec": {
   "display_name": "base",
   "language": "python",
   "name": "python3"
  },
  "language_info": {
   "codemirror_mode": {
    "name": "ipython",
    "version": 3
   },
   "file_extension": ".py",
   "mimetype": "text/x-python",
   "name": "python",
   "nbconvert_exporter": "python",
   "pygments_lexer": "ipython3",
   "version": "3.11.3"
  }
 },
 "nbformat": 4,
 "nbformat_minor": 5
}
